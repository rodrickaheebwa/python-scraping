{
 "cells": [
  {
   "cell_type": "code",
   "execution_count": 2,
   "metadata": {},
   "outputs": [],
   "source": [
    "import pandas as pd\n",
    "import numpy as np"
   ]
  },
  {
   "cell_type": "code",
   "execution_count": 11,
   "metadata": {},
   "outputs": [],
   "source": [
    "url = \"https://en.wikipedia.org/wiki/Premier_League\"\n",
    "\n",
    "# change parser from the default lxml to bs4\n",
    "epl_tables = pd.read_html(url, match = \"Position\", flavor='bs4')\n",
    "epl_table = epl_tables[0]"
   ]
  },
  {
   "cell_type": "code",
   "execution_count": 14,
   "metadata": {},
   "outputs": [],
   "source": [
    "my_epl_table = pd.DataFrame()\n",
    "my_epl_table['Club'] = epl_table['2022–23 Club']\n",
    "my_epl_table['No-of-seasons'] = epl_table['Seasons in top division']\n",
    "my_epl_table['No-of-Pl-seasons'] = epl_table['Seasons in Premier League']\n",
    "my_epl_table['Titles'] = epl_table['Top division titles']\n",
    "my_epl_table['Never-relegated'] = my_epl_table['Club'].str.contains('[b]')\n",
    "my_epl_table['Club'] = my_epl_table['Club'].replace('\\[.\\]', '', regex=True)"
   ]
  }
 ],
 "metadata": {
  "kernelspec": {
   "display_name": "venv",
   "language": "python",
   "name": "python3"
  },
  "language_info": {
   "codemirror_mode": {
    "name": "ipython",
    "version": 3
   },
   "file_extension": ".py",
   "mimetype": "text/x-python",
   "name": "python",
   "nbconvert_exporter": "python",
   "pygments_lexer": "ipython3",
   "version": "3.10.0"
  },
  "orig_nbformat": 4
 },
 "nbformat": 4,
 "nbformat_minor": 2
}
